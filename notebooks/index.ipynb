{
 "cells": [
  {
   "cell_type": "code",
   "execution_count": null,
   "metadata": {},
   "outputs": [],
   "source": [
    "#hide\n",
    "from image_folder_datasets.core import *"
   ]
  },
  {
   "cell_type": "markdown",
   "metadata": {},
   "source": [
    "# Welcome to Image Folder Datasets\n",
    "\n",
    "> Super easy image classification datasets that you can use in an instant!"
   ]
  },
  {
   "cell_type": "markdown",
   "metadata": {},
   "source": [
    "## Install"
   ]
  },
  {
   "cell_type": "markdown",
   "metadata": {},
   "source": [
    "`pip install image_folder_datasets`"
   ]
  },
  {
   "cell_type": "markdown",
   "metadata": {},
   "source": [
    "## How to use"
   ]
  },
  {
   "cell_type": "markdown",
   "metadata": {},
   "source": [
    "Fill me in please! Don't forget code examples:"
   ]
  },
  {
   "cell_type": "markdown",
   "metadata": {},
   "source": [
    "## Docker stuff "
   ]
  },
  {
   "cell_type": "markdown",
   "metadata": {},
   "source": [
    "```bash\n",
    "# make sure you are in the right folder\n",
    "cd ../image_folder_dataset\n",
    "\n",
    "# build container\n",
    "docker build -f ./Dockerfile -t image_folder_dataset .\n",
    "\n",
    "# run container\n",
    "docker run -it -u root \\\n",
    "    --runtime nvidia \\\n",
    "    -v /home/atom/:/mount_data/ \\\n",
    "    --name image_folder_dataset image_folder_dataset:latest bash\n",
    "    \n",
    "# delete container\n",
    "docker rm image_folder_dataset\n",
    "```"
   ]
  },
  {
   "cell_type": "code",
   "execution_count": null,
   "metadata": {},
   "outputs": [],
   "source": []
  }
 ],
 "metadata": {
  "kernelspec": {
   "display_name": "Python 3",
   "language": "python",
   "name": "python3"
  }
 },
 "nbformat": 4,
 "nbformat_minor": 4
}
