{
 "cells": [
  {
   "cell_type": "code",
   "execution_count": null,
   "id": "fourth-hardwood",
   "metadata": {},
   "outputs": [],
   "source": [
    "#hide\n",
    "%load_ext autoreload\n",
    "%autoreload 2\n",
    "%load_ext tensorboard"
   ]
  },
  {
   "cell_type": "markdown",
   "id": "literary-constitution",
   "metadata": {},
   "source": [
    "# Tutorial: Using datasets"
   ]
  },
  {
   "cell_type": "code",
   "execution_count": null,
   "id": "decimal-colorado",
   "metadata": {},
   "outputs": [
    {
     "data": {
      "text/html": [
       "<pre style=\"white-space:pre;overflow-x:auto;line-height:normal;font-family:Menlo,'DejaVu Sans Mono',consolas,'Courier New',monospace\"><span style=\"color: #000080; font-weight: bold\">110</span>\n",
       "</pre>\n"
      ],
      "text/plain": [
       "<rich.jupyter.JupyterRenderable at 0x7f32696bed60>"
      ]
     },
     "metadata": {},
     "output_type": "display_data"
    }
   ],
   "source": [
    "import os, glob\n",
    "from rich import print\n",
    "from image_folder_datasets.core import ImageFolderDataModule\n",
    "\n",
    "from sklearn import svm\n",
    "import numpy as np\n",
    "import pytorch_lightning as pl\n",
    "from image_folder_datasets.core import CNNModule\n",
    "from torchvision import transforms as tfms\n",
    "from einops.layers.torch import Rearrange\n",
    "from sklearn.metrics import classification_report\n",
    "\n",
    "data_dirs = sorted(list(glob.glob('datasets/*')))\n",
    "print(len(data_dirs))"
   ]
  },
  {
   "cell_type": "code",
   "execution_count": null,
   "id": "accessible-parcel",
   "metadata": {},
   "outputs": [],
   "source": [
    "transform = tfms.Compose([\n",
    "    tfms.Grayscale(),\n",
    "    tfms.Resize(128, interpolation=2),\n",
    "    tfms.RandomCrop(112),\n",
    "    tfms.ToTensor(),\n",
    "    Rearrange('h w c -> (h w c)'), \n",
    "])"
   ]
  },
  {
   "cell_type": "code",
   "execution_count": null,
   "id": "herbal-federal",
   "metadata": {},
   "outputs": [
    {
     "data": {
      "text/html": [
       "<pre style=\"white-space:pre;overflow-x:auto;line-height:normal;font-family:Menlo,'DejaVu Sans Mono',consolas,'Courier New',monospace\"><span style=\"color: #000080; font-weight: bold\">6000</span>-store-items-images-classified-by-color <span style=\"color: #000080; font-weight: bold\">0.3453525641025641</span>\n",
       "</pre>\n"
      ],
      "text/plain": [
       "<rich.jupyter.JupyterRenderable at 0x7fc890b81640>"
      ]
     },
     "metadata": {},
     "output_type": "display_data"
    }
   ],
   "source": [
    "\n",
    "\n",
    "results = {}\n",
    "\n",
    "data_dirs = sorted(list(glob.glob('datasets/*')))\n",
    "\n",
    "for i, data_dir in enumerate(data_dirs):\n",
    "    \n",
    "    dm = ImageFolderDataModule(data_dir, 256, transform, num_workers=8)\n",
    "    dm.setup()\n",
    "    \n",
    "    x_train, y_train = zip(*[(np.asarray(x),y) for x, y in dm.trainset])\n",
    "    x_val, y_val = zip(*[(np.asarray(x),y) for x, y in dm.valset])\n",
    "    \n",
    "    clf = svm.SVC()\n",
    "    clf.fit(x_train, y_train)\n",
    "\n",
    "    y_pred = clf.predict(x_val)\n",
    "    result = classification_report(y_val, y_pred, output_dict=True)\n",
    "    \n",
    "    dataset_name = os.path.basename(data_dir)\n",
    "    results[dataset_name] = result\n",
    "    print(dataset_name, result['accuracy'])\n",
    "    \n",
    "   "
   ]
  },
  {
   "cell_type": "code",
   "execution_count": null,
   "id": "starting-cookie",
   "metadata": {},
   "outputs": [
    {
     "data": {
      "text/html": [
       "<pre style=\"white-space:pre;overflow-x:auto;line-height:normal;font-family:Menlo,'DejaVu Sans Mono',consolas,'Courier New',monospace\"><span style=\"color: #000080; font-weight: bold\">6000</span>-store-items-images-classified-by-color <span style=\"color: #000080; font-weight: bold\">0.11298076923076923</span>\n",
       "</pre>\n"
      ],
      "text/plain": [
       "<rich.jupyter.JupyterRenderable at 0x7f3269ba6190>"
      ]
     },
     "metadata": {},
     "output_type": "display_data"
    }
   ],
   "source": [
    "results = {}\n",
    "for i, data_dir in enumerate(data_dirs):\n",
    "    \n",
    "    dm = ImageFolderDataModule(data_dir, 256, transform, num_workers=8)\n",
    "    dm.setup()\n",
    "    \n",
    "    x_train, y_train = zip(*[(np.asarray(x),y) for x, y in dm.trainset])\n",
    "    x_val, y_val = zip(*[(np.asarray(x),y) for x, y in dm.valset])\n",
    "    \n",
    "    dummy_clf = DummyClassifier(strategy=\"most_frequent\")\n",
    "    dummy_clf.fit(x_train, y_train)\n",
    "\n",
    "    y_pred = dummy_clf.predict(x_val)\n",
    "    result = classification_report(y_val, y_pred, output_dict=True)\n",
    "    \n",
    "    dataset_name = os.path.basename(data_dir)\n",
    "    results[dataset_name] = result\n",
    "    print(dataset_name, result['accuracy'])\n",
    "    break"
   ]
  },
  {
   "cell_type": "code",
   "execution_count": null,
   "id": "german-cliff",
   "metadata": {},
   "outputs": [
    {
     "data": {
      "text/html": [
       "<div>\n",
       "<style scoped>\n",
       "    .dataframe tbody tr th:only-of-type {\n",
       "        vertical-align: middle;\n",
       "    }\n",
       "\n",
       "    .dataframe tbody tr th {\n",
       "        vertical-align: top;\n",
       "    }\n",
       "\n",
       "    .dataframe thead th {\n",
       "        text-align: right;\n",
       "    }\n",
       "</style>\n",
       "<table border=\"1\" class=\"dataframe\">\n",
       "  <thead>\n",
       "    <tr style=\"text-align: right;\">\n",
       "      <th></th>\n",
       "      <th>0</th>\n",
       "      <th>1</th>\n",
       "      <th>2</th>\n",
       "      <th>3</th>\n",
       "      <th>4</th>\n",
       "      <th>5</th>\n",
       "      <th>6</th>\n",
       "      <th>7</th>\n",
       "      <th>8</th>\n",
       "      <th>9</th>\n",
       "      <th>10</th>\n",
       "      <th>11</th>\n",
       "      <th>accuracy</th>\n",
       "      <th>macro avg</th>\n",
       "      <th>weighted avg</th>\n",
       "    </tr>\n",
       "  </thead>\n",
       "  <tbody>\n",
       "    <tr>\n",
       "      <th>precision</th>\n",
       "      <td>0.0</td>\n",
       "      <td>0.0</td>\n",
       "      <td>0.0</td>\n",
       "      <td>0.0</td>\n",
       "      <td>0.0</td>\n",
       "      <td>0.0</td>\n",
       "      <td>0.0</td>\n",
       "      <td>0.0</td>\n",
       "      <td>0.0</td>\n",
       "      <td>0.0</td>\n",
       "      <td>0.112981</td>\n",
       "      <td>0.0</td>\n",
       "      <td>0.112981</td>\n",
       "      <td>0.009415</td>\n",
       "      <td>0.012765</td>\n",
       "    </tr>\n",
       "    <tr>\n",
       "      <th>recall</th>\n",
       "      <td>0.0</td>\n",
       "      <td>0.0</td>\n",
       "      <td>0.0</td>\n",
       "      <td>0.0</td>\n",
       "      <td>0.0</td>\n",
       "      <td>0.0</td>\n",
       "      <td>0.0</td>\n",
       "      <td>0.0</td>\n",
       "      <td>0.0</td>\n",
       "      <td>0.0</td>\n",
       "      <td>1.000000</td>\n",
       "      <td>0.0</td>\n",
       "      <td>0.112981</td>\n",
       "      <td>0.083333</td>\n",
       "      <td>0.112981</td>\n",
       "    </tr>\n",
       "    <tr>\n",
       "      <th>f1-score</th>\n",
       "      <td>0.0</td>\n",
       "      <td>0.0</td>\n",
       "      <td>0.0</td>\n",
       "      <td>0.0</td>\n",
       "      <td>0.0</td>\n",
       "      <td>0.0</td>\n",
       "      <td>0.0</td>\n",
       "      <td>0.0</td>\n",
       "      <td>0.0</td>\n",
       "      <td>0.0</td>\n",
       "      <td>0.203024</td>\n",
       "      <td>0.0</td>\n",
       "      <td>0.112981</td>\n",
       "      <td>0.016919</td>\n",
       "      <td>0.022938</td>\n",
       "    </tr>\n",
       "    <tr>\n",
       "      <th>support</th>\n",
       "      <td>67.0</td>\n",
       "      <td>130.0</td>\n",
       "      <td>136.0</td>\n",
       "      <td>141.0</td>\n",
       "      <td>137.0</td>\n",
       "      <td>64.0</td>\n",
       "      <td>68.0</td>\n",
       "      <td>70.0</td>\n",
       "      <td>138.0</td>\n",
       "      <td>70.0</td>\n",
       "      <td>141.000000</td>\n",
       "      <td>86.0</td>\n",
       "      <td>0.112981</td>\n",
       "      <td>1248.000000</td>\n",
       "      <td>1248.000000</td>\n",
       "    </tr>\n",
       "  </tbody>\n",
       "</table>\n",
       "</div>"
      ],
      "text/plain": [
       "              0      1      2      3      4     5     6     7      8     9  \\\n",
       "precision   0.0    0.0    0.0    0.0    0.0   0.0   0.0   0.0    0.0   0.0   \n",
       "recall      0.0    0.0    0.0    0.0    0.0   0.0   0.0   0.0    0.0   0.0   \n",
       "f1-score    0.0    0.0    0.0    0.0    0.0   0.0   0.0   0.0    0.0   0.0   \n",
       "support    67.0  130.0  136.0  141.0  137.0  64.0  68.0  70.0  138.0  70.0   \n",
       "\n",
       "                   10    11  accuracy    macro avg  weighted avg  \n",
       "precision    0.112981   0.0  0.112981     0.009415      0.012765  \n",
       "recall       1.000000   0.0  0.112981     0.083333      0.112981  \n",
       "f1-score     0.203024   0.0  0.112981     0.016919      0.022938  \n",
       "support    141.000000  86.0  0.112981  1248.000000   1248.000000  "
      ]
     },
     "execution_count": null,
     "metadata": {},
     "output_type": "execute_result"
    }
   ],
   "source": [
    "from contexttimer import Timer\n",
    "from sklearn import metrics\n",
    "\n",
    "def multiclass_report(clf, x_train, y_train, x_val, y_val):\n",
    "    with Timer() as fit_time:\n",
    "        clf.fit(x_train, y_train)\n",
    "        \n",
    "    with Timer() as inf_time:\n",
    "        y_pred = clf.predict(x_val)\n",
    "        \n",
    "    \n",
    "    "
   ]
  },
  {
   "cell_type": "code",
   "execution_count": null,
   "id": "constitutional-vector",
   "metadata": {},
   "outputs": [
    {
     "data": {
      "text/plain": [
       "(array([0.        , 0.        , 0.        , 0.        , 0.        ,\n",
       "        0.        , 0.        , 0.        , 0.        , 0.        ,\n",
       "        0.11298077, 0.        ]),\n",
       " array([0., 0., 0., 0., 0., 0., 0., 0., 0., 0., 1., 0.]),\n",
       " array([0.        , 0.        , 0.        , 0.        , 0.        ,\n",
       "        0.        , 0.        , 0.        , 0.        , 0.        ,\n",
       "        0.20302376, 0.        ]),\n",
       " array([ 67, 130, 136, 141, 137,  64,  68,  70, 138,  70, 141,  86]))"
      ]
     },
     "execution_count": null,
     "metadata": {},
     "output_type": "execute_result"
    }
   ],
   "source": [
    "from sklearn.metrics import precision_recall_fscore_support\n",
    "precision_recall_fscore_support(y_val, y_pred)"
   ]
  },
  {
   "cell_type": "code",
   "execution_count": null,
   "id": "decimal-corps",
   "metadata": {},
   "outputs": [],
   "source": []
  }
 ],
 "metadata": {
  "kernelspec": {
   "display_name": "Python 3",
   "language": "python",
   "name": "python3"
  }
 },
 "nbformat": 4,
 "nbformat_minor": 5
}
