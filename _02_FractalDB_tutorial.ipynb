{
 "cells": [
  {
   "cell_type": "code",
   "execution_count": null,
   "id": "frozen-breast",
   "metadata": {},
   "outputs": [],
   "source": [
    "# from torchvision.transforms import ToTensor, Resize, Compose, CenterCrop, Normalize\n",
    "\n",
    "# transform = Compose([\n",
    "#         Resize(256, interpolation=2),\n",
    "#         CenterCrop(224),\n",
    "#         ToTensor(),\n",
    "#         Normalize(mean=[0.485, 0.456, 0.406],\n",
    "#                          std=[0.229, 0.224, 0.225])\n",
    "# ])\n",
    "\n",
    "\n",
    "# dm = ImageFolderDataModule(data_dir, 128, transform)\n",
    "# dm.setup()\n",
    "\n",
    "# logger = pl.loggers.TensorBoardLogger('tb_logs', name=modelname+'_fractalDB_imagenet_nm')\n",
    "\n",
    "# weight_path = 'FractalDB-1000_resnet50_epoch90.pth'\n",
    "# trainer = pl.Trainer(gpus=1, max_epochs=max_epochs, checkpoint_callback=False, logger=logger)\n",
    "\n",
    "# model = CNNModule(modelname, freeze_extractor=False, num_classes=len(dm.trainset.classes), weight_path=weight_path)\n",
    "# trainer.fit(model, dm);"
   ]
  }
 ],
 "metadata": {
  "kernelspec": {
   "display_name": "Python 3",
   "language": "python",
   "name": "python3"
  }
 },
 "nbformat": 4,
 "nbformat_minor": 5
}
