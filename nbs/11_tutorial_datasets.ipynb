{
 "cells": [
  {
   "cell_type": "code",
   "execution_count": null,
   "metadata": {},
   "outputs": [],
   "source": [
    "#hide\n",
    "%load_ext autoreload\n",
    "%autoreload 2\n",
    "%load_ext tensorboard"
   ]
  },
  {
   "cell_type": "markdown",
   "metadata": {},
   "source": [
    "# Tutorial: Using datasets"
   ]
  },
  {
   "cell_type": "code",
   "execution_count": 1,
   "metadata": {},
   "outputs": [
    {
     "name": "stdout",
     "output_type": "stream",
     "text": [
      "110\n"
     ]
    }
   ],
   "source": [
    "import glob\n",
    "import os\n",
    "\n",
    "import numpy as np\n",
    "from sklearn import svm\n",
    "from sklearn.dummy import DummyClassifier\n",
    "from sklearn.metrics import classification_report\n",
    "from sklearn.svm import SVC\n",
    "from sklearn.decomposition import PCA\n",
    "from torchvision import transforms as tfms\n",
    "from lightgbm import LGBMClassifier\n",
    "\n",
    "import pytorch_lightning as pl\n",
    "from einops.layers.torch import Rearrange\n",
    "from image_folder_datasets.core import CNNModule, ImageFolderDataModule\n",
    "\n",
    "data_dirs = sorted(list(glob.glob('datasets/*')))\n",
    "print(len(data_dirs))"
   ]
  },
  {
   "cell_type": "code",
   "execution_count": 2,
   "metadata": {},
   "outputs": [],
   "source": [
    "import pandas as pd\n",
    "from contexttimer import Timer\n",
    "from sklearn import metrics\n",
    "\n",
    "def multiclass_report(x_train, y_train, x_val, y_val, clf=None, dataset_name=None):\n",
    "    \"\"\"Utility function to score classifier\n",
    "    Pass in the classifier if you want to test train, test times etc.\n",
    "    \"\"\"\n",
    "    n_classes = len(set(y_train))\n",
    "    labels = sorted(list(set(y_train)))\n",
    "    \n",
    "    with Timer() as train_time:\n",
    "        clf.fit(x_train, y_train)\n",
    "        \n",
    "    with Timer() as test_time:\n",
    "        y_pred_proba = clf.predict_proba(x_val)\n",
    "        \n",
    "    y_pred = np.argmax(y_pred_proba, axis=1)\n",
    "        \n",
    "    results = {\n",
    "        'Train time': train_time.elapsed,\n",
    "        'Test time': test_time.elapsed\n",
    "    }\n",
    "    results['clf'] = clf.__class__.__name__\n",
    "    results['dataset'] = dataset_name\n",
    "    results['Weighted Fscore'] = metrics.f1_score(y_val, y_pred, average='weighted')\n",
    "    results['Top-1 score'] = metrics.top_k_accuracy_score(y_val, y_pred_proba, k=1)\n",
    "    results['Top-5 score'] = metrics.top_k_accuracy_score(y_val, y_pred_proba, k=5) if n_classes > 5 else None\n",
    "    results['n_classes'] = n_classes\n",
    "    results['n_train_samples'] = len(x_train)\n",
    "    results['n_test_samples'] = len(x_val)\n",
    "        \n",
    "    return results"
   ]
  },
  {
   "cell_type": "code",
   "execution_count": 3,
   "metadata": {},
   "outputs": [
    {
     "ename": "SyntaxError",
     "evalue": "unexpected EOF while parsing (<ipython-input-3-0893b2cfc614>, line 37)",
     "output_type": "error",
     "traceback": [
      "\u001b[0;36m  File \u001b[0;32m\"<ipython-input-3-0893b2cfc614>\"\u001b[0;36m, line \u001b[0;32m37\u001b[0m\n\u001b[0;31m    print(\"\\t\", pd.DataFrame(results[2*i:2*i+2])\u001b[0m\n\u001b[0m                                                ^\u001b[0m\n\u001b[0;31mSyntaxError\u001b[0m\u001b[0;31m:\u001b[0m unexpected EOF while parsing\n"
     ]
    }
   ],
   "source": [
    "results = []\n",
    "\n",
    "data_dirs = sorted(list(glob.glob('datasets/*')))\n",
    "\n",
    "transform = tfms.Compose([\n",
    "    tfms.Grayscale(),\n",
    "    tfms.Resize(128, interpolation=2),\n",
    "    tfms.RandomCrop(112),\n",
    "    tfms.ToTensor(),\n",
    "    Rearrange('h w c -> (h w c)'), \n",
    "])\n",
    "\n",
    "for i, data_dir in enumerate(data_dirs):\n",
    "    dataset_name = data_dir\n",
    "    print(dataset_name)\n",
    "    dm = ImageFolderDataModule(data_dir, 256, transform, num_workers=8)\n",
    "    dm.setup()\n",
    "    \n",
    "    x_train, y_train = zip(*[(np.asarray(x),y) for x, y in dm.trainset])\n",
    "    x_val, y_val = zip(*[(np.asarray(x),y) for x, y in dm.valset])\n",
    "\n",
    "    # Do dimensionality reduction to \n",
    "    print(\"\\tStart PCA\")\n",
    "    pca = PCA(n_components=0.9)\n",
    "    pca.fit(x_train)\n",
    "    x_train = pca.transform(x_train)\n",
    "    x_val = pca.transform(x_val)\n",
    "\n",
    "    print(\"\\tn_components:\", pca.n_components_)\n",
    "        \n",
    "    svm = SVC(probability=True)\n",
    "    results.append(multiclass_report(x_train, y_train, x_val, y_val, clf=svm, dataset_name=dataset_name))\n",
    "\n",
    "    dummy_clf = DummyClassifier()\n",
    "    results.append(multiclass_report(x_train, y_train, x_val, y_val, clf=dummy_clf, dataset_name=dataset_name))\n",
    "\n",
    "    print(\"\\t\", pd.DataFrame(results[2*i:2*i+2]))\n"
   ]
  }
 ],
 "metadata": {
  "kernelspec": {
   "display_name": "Python 3",
   "language": "python",
   "name": "python3"
  },
  "language_info": {
   "codemirror_mode": {
    "name": "ipython",
    "version": 3
   },
   "file_extension": ".py",
   "mimetype": "text/x-python",
   "name": "python",
   "nbconvert_exporter": "python",
   "pygments_lexer": "ipython3",
   "version": "3.8.5"
  }
 },
 "nbformat": 4,
 "nbformat_minor": 5
}